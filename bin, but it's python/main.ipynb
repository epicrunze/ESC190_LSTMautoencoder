{
 "nbformat": 4,
 "nbformat_minor": 2,
 "metadata": {
  "language_info": {
   "name": "python",
   "codemirror_mode": {
    "name": "ipython",
    "version": 3
   },
   "version": "3.7.4-final"
  },
  "orig_nbformat": 2,
  "file_extension": ".py",
  "mimetype": "text/x-python",
  "name": "python",
  "npconvert_exporter": "python",
  "pygments_lexer": "ipython3",
  "version": 3,
  "kernelspec": {
   "name": "python37464bitprojenvvenv5183e90ff64f49ee83b8a29c549cc789",
   "display_name": "Python 3.7.4 64-bit ('projenv': venv)"
  }
 },
 "cells": [
  {
   "cell_type": "code",
   "execution_count": 1,
   "metadata": {},
   "outputs": [],
   "source": [
    "import os\n",
    "import numpy as np \n",
    "import utils2\n",
    "import utils\n",
    "import structs"
   ]
  },
  {
   "cell_type": "code",
   "execution_count": 2,
   "metadata": {},
   "outputs": [],
   "source": [
    "datafile = \"memes.txt\"\n",
    "dictionary = utils2.data2dict(datafile)"
   ]
  },
  {
   "cell_type": "code",
   "execution_count": 6,
   "metadata": {},
   "outputs": [
    {
     "output_type": "stream",
     "name": "stdout",
     "text": "['half-length']\n"
    }
   ],
   "source": [
    "print(dictionary.return_dict())"
   ]
  },
  {
   "cell_type": "code",
   "execution_count": 2,
   "metadata": {},
   "outputs": [],
   "source": [
    "data_dir = \"C:/Users/DS/Desktop/zhan8425_project/data_wordnet\"\n",
    "data = utils.read_dir(data_dir)\n",
    "word_net = structs.Dictionary()\n",
    "for word, definition, _ in data:\n",
    "    #process and encode vector here\n",
    "    if definition:\n",
    "        encoded_vec = definition\n",
    "        word_net.insert(structs.Node(structs.Word(word, definition, encoded_vec)))"
   ]
  },
  {
   "cell_type": "code",
   "execution_count": 3,
   "metadata": {},
   "outputs": [
    {
     "output_type": "stream",
     "name": "stdout",
     "text": "Dictionary: created by yaboi\n1: find definition to input word\n2: Insert a given word and definition\n3: Delete word\n4: Scroll around a given word\n5: Find synonyms\n6: Find closest word\n7: Find words that follow from a segment\n8: Size of dictionary\n9: Write dictionary to a file\ntype: quit to quit\nDictionary: created by yaboi\n1: find definition to input word\n2: Insert a given word and definition\n3: Delete word\n4: Scroll around a given word\n5: Find synonyms\n6: Find closest word\n7: Find words that follow from a segment\n8: Size of dictionary\n9: Write dictionary to a file\ntype: quit to quit\nDictionary: created by yaboi\n1: find definition to input word\n2: Insert a given word and definition\n3: Delete word\n4: Scroll around a given word\n5: Find synonyms\n6: Find closest word\n7: Find words that follow from a segment\n8: Size of dictionary\n9: Write dictionary to a file\ntype: quit to quit\n"
    }
   ],
   "source": [
    "word_net.run()"
   ]
  },
  {
   "cell_type": "code",
   "execution_count": null,
   "metadata": {},
   "outputs": [],
   "source": []
  }
 ]
}