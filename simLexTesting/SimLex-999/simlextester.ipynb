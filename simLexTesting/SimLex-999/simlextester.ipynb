{
 "nbformat": 4,
 "nbformat_minor": 2,
 "metadata": {
  "language_info": {
   "name": "python",
   "codemirror_mode": {
    "name": "ipython",
    "version": 3
   },
   "version": "3.7.4-final"
  },
  "orig_nbformat": 2,
  "file_extension": ".py",
  "mimetype": "text/x-python",
  "name": "python",
  "npconvert_exporter": "python",
  "pygments_lexer": "ipython3",
  "version": 3,
  "kernelspec": {
   "name": "python37464bitprojenvvenv5183e90ff64f49ee83b8a29c549cc789",
   "display_name": "Python 3.7.4 64-bit ('projenv': venv)"
  }
 },
 "cells": [
  {
   "cell_type": "code",
   "execution_count": 2,
   "metadata": {},
   "outputs": [],
   "source": [
    "import numpy as np \n",
    "import tensorflow as tf \n",
    "import pandas as pd\n",
    "import os\n",
    "import scipy.stats as stats\n",
    "import pickle"
   ]
  },
  {
   "cell_type": "code",
   "execution_count": 31,
   "metadata": {},
   "outputs": [],
   "source": [
    "vec2word = pickle.load(open(\"normedvec2word512.p\", \"rb\"))\n",
    "word2vec = pickle.load(open(\"normedword2vec512.p\", \"rb\"))"
   ]
  },
  {
   "cell_type": "code",
   "execution_count": 37,
   "metadata": {
    "tags": [
     "outputPrepend"
    ]
   },
   "outputs": [
    {
     "output_type": "stream",
     "name": "stdout",
     "text": "928\nSpearmanrResult(correlation=-0.02094593809698709, pvalue=0.5239372986260715)\n0.09009383\n"
    }
   ],
   "source": [
    "simLexScores = []\n",
    "cosineDists = []\n",
    "\n",
    "numtrials = 0\n",
    "\n",
    "with open(\"SimLex-999.txt\", \"r\") as sim_lex:\n",
    "    firstline = 1 \n",
    "    for line in sim_lex:\n",
    "        if firstline:\n",
    "            firstline = 0\n",
    "            continue\n",
    "        splitlist = line.split(\"\\t\")\n",
    "        word1, word2, simLexScore = splitlist[0], splitlist[1], splitlist[3]\n",
    "        if word1 in word2vec and word2 in word2vec:\n",
    "            cosdist = word2vec[word1].dot(word2vec[word2]) / (np.linalg.norm(word2vec[word1]) * np.linalg.norm(word2vec[word2]))\n",
    "            #cosdist = np.random.randn(1)\n",
    "            simLexScores.append(float(simLexScore))\n",
    "            cosineDists.append(cosdist)\n",
    "            numtrials += 1\n",
    "\n",
    "print(numtrials)\n",
    "print(stats.spearmanr(simLexScores, cosineDists))\n",
    "cosdist = word2vec[\"large\"].dot(word2vec[\"big\"]) / (np.linalg.norm(word2vec[\"large\"]) * np.linalg.norm(word2vec[\"big\"]))\n",
    "\n",
    "print(cosdist)"
   ]
  },
  {
   "cell_type": "code",
   "execution_count": null,
   "metadata": {},
   "outputs": [],
   "source": []
  }
 ]
}